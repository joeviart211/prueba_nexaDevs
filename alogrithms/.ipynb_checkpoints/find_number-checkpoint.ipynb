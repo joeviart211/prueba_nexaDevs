{
 "cells": [
  {
   "cell_type": "code",
   "execution_count": 2,
   "id": "25f2f004",
   "metadata": {},
   "outputs": [
    {
     "ename": "ModuleNotFoundError",
     "evalue": "No module named 'widgets'",
     "output_type": "error",
     "traceback": [
      "\u001b[1;31m---------------------------------------------------------------------------\u001b[0m",
      "\u001b[1;31mModuleNotFoundError\u001b[0m                       Traceback (most recent call last)",
      "Cell \u001b[1;32mIn[2], line 1\u001b[0m\n\u001b[1;32m----> 1\u001b[0m \u001b[38;5;28;01mimport\u001b[39;00m \u001b[38;5;21;01mwidgets\u001b[39;00m\n\u001b[0;32m      2\u001b[0m \u001b[38;5;28;01mimport\u001b[39;00m \u001b[38;5;21;01mdisplay\u001b[39;00m\n\u001b[0;32m      4\u001b[0m \u001b[38;5;66;03m# Create a list to store the entered numbers\u001b[39;00m\n",
      "\u001b[1;31mModuleNotFoundError\u001b[0m: No module named 'widgets'"
     ]
    }
   ],
   "source": [
    "import widgets\n",
    "import display\n",
    "\n",
    "# Create a list to store the entered numbers\n",
    "numbers = []\n",
    "\n",
    "# Function to handle the button click event\n",
    "def arrayAdd(a):\n",
    "    global numbers\n",
    "    num = int(text_input.value)\n",
    "    numbers.append(num)\n",
    "    text_input.value = \"\"\n",
    "    print(f\"Entered numbers: {numbers}\")\n",
    "\n",
    "def searchedNumber(b):\n",
    "    global search\n",
    "    search=int(text_input_search.value)\n",
    "    print(search)\n",
    "    \n",
    "\n",
    "    \n",
    "\n",
    "# Create a text input widget\n",
    "text_input = widgets.Text(description='Enter number:')\n",
    "\n",
    "text_input_search = widgets.Text(description='Enter number:')\n",
    "\n",
    "\n",
    "\n",
    "# Create a button widget\n",
    "buttonAdd = widgets.Button(description=\"Add Number\")\n",
    "\n",
    "buttonId = widgets.Button(description=\"Find Number\")\n",
    "\n",
    "\n",
    "# Attach the button click event handler\n",
    "buttonAdd.on_click(arrayAdd)\n",
    "\n",
    "buttonId.on_click(searchedNumber)\n",
    "\n",
    "display(text_input)\n",
    "display(buttonAdd)\n",
    "display(text_input_search)\n",
    "\n",
    "display(buttonId)\n"
   ]
  },
  {
   "cell_type": "code",
   "execution_count": null,
   "id": "186dfb62",
   "metadata": {},
   "outputs": [
    {
     "name": "stdout",
     "output_type": "stream",
     "text": [
      "0\n"
     ]
    }
   ],
   "source": [
    "count=0\n",
    "found=0\n",
    "for x in numbers:\n",
    "    \n",
    "    if x ==int(search) :\n",
    "        found=1\n",
    "        break\n",
    "     \n",
    "    else:\n",
    "        count=count+1   \n",
    "        result=-1\n",
    "       \n",
    "    \n",
    "\n",
    "if found == 1 :\n",
    "    print(count)\n",
    "else:\n",
    "    print(result)"
   ]
  },
  {
   "cell_type": "code",
   "execution_count": null,
   "id": "a0039b8d",
   "metadata": {},
   "outputs": [],
   "source": []
  },
  {
   "cell_type": "code",
   "execution_count": null,
   "id": "21c30c7b",
   "metadata": {},
   "outputs": [],
   "source": []
  },
  {
   "cell_type": "code",
   "execution_count": null,
   "id": "0eb51098",
   "metadata": {},
   "outputs": [],
   "source": []
  }
 ],
 "metadata": {
  "kernelspec": {
   "display_name": "Python 3 (ipykernel)",
   "language": "python",
   "name": "python3"
  },
  "language_info": {
   "codemirror_mode": {
    "name": "ipython",
    "version": 3
   },
   "file_extension": ".py",
   "mimetype": "text/x-python",
   "name": "python",
   "nbconvert_exporter": "python",
   "pygments_lexer": "ipython3",
   "version": "3.11.4"
  }
 },
 "nbformat": 4,
 "nbformat_minor": 5
}
