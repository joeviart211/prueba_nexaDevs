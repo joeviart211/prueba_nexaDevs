{
 "cells": [
  {
   "cell_type": "code",
   "execution_count": 1,
   "metadata": {},
   "outputs": [
    {
     "name": "stdout",
     "output_type": "stream",
     "text": [
      "Pirámide generada:\n",
      "[75, 85, 20, 68, 28, 95, 73, 38, 28, 38]\n",
      "[' ', 160, 105, 88, 96, 123, 168, 111, 66, 66]\n",
      "[' ', 265, 193, 184, 219, 291, 279, 177, 132]\n",
      "[' ', ' ', 458, 377, 403, 510, 570, 456, 309]\n",
      "[' ', ' ', 835, 780, 913, 1080, 1026, 765]\n",
      "[' ', ' ', ' ', 1615, 1693, 1993, 2106, 1791]\n",
      "[' ', ' ', ' ', 3308, 3686, 4099, 3897]\n",
      "[' ', ' ', ' ', ' ', 6994, 7785, 7996]\n",
      "[' ', ' ', ' ', ' ', 14779, 15781]\n",
      "[' ', ' ', ' ', ' ', ' ', 30560]\n"
     ]
    }
   ],
   "source": [
    "import random\n",
    "count=0\n",
    "def generate_random_array(length, min_val, max_val):\n",
    "    return [random.randint(min_val, max_val) for _ in range(length)]\n",
    "\n",
    "def sum_adjacent_pairs(arr):\n",
    "    new_arr = []\n",
    "    blnk_arr=[]\n",
    "    \n",
    "    c=0\n",
    "    \n",
    "    \n",
    "    while c <= count:\n",
    "        blnk_arr.append(\" \")\n",
    "        c=c+1\n",
    "       \n",
    "    \n",
    "    for i in range(len(arr) - 1):\n",
    "        \n",
    "        new_arr.append(arr[i] + arr[i + 1])\n",
    "    return new_arr\n",
    "\n",
    "def print_pyramid(arr):\n",
    "    blnk_arr =[]\n",
    "    for row in arr:\n",
    "        global count\n",
    "        count=count+1\n",
    "        print(blnk_arr+row)\n",
    "        if count%2 != 0:\n",
    "            blnk_arr.append(\" \")\n",
    "            \n",
    "            \n",
    "        \n",
    "\n",
    "def main():\n",
    "    pyramid = []\n",
    "    original_array = generate_random_array(10, 1, 100)\n",
    "    pyramid.append(original_array)\n",
    "\n",
    "    while len(pyramid[-1]) > 1:\n",
    "        new_row = sum_adjacent_pairs(pyramid[-1])\n",
    "        pyramid.append(new_row)\n",
    "\n",
    "    print(\"Pirámide generada:\")\n",
    "    print_pyramid(pyramid)\n",
    "\n",
    "if __name__ == \"__main__\":\n",
    "    main()"
   ]
  },
  {
   "cell_type": "code",
   "execution_count": null,
   "metadata": {},
   "outputs": [],
   "source": []
  }
 ],
 "metadata": {
  "kernelspec": {
   "display_name": "Python 3 (ipykernel)",
   "language": "python",
   "name": "python3"
  },
  "language_info": {
   "codemirror_mode": {
    "name": "ipython",
    "version": 3
   },
   "file_extension": ".py",
   "mimetype": "text/x-python",
   "name": "python",
   "nbconvert_exporter": "python",
   "pygments_lexer": "ipython3",
   "version": "3.11.4"
  }
 },
 "nbformat": 4,
 "nbformat_minor": 2
}
