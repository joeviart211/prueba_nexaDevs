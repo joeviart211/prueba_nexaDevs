{
 "cells": [
  {
   "cell_type": "code",
   "execution_count": 2,
   "metadata": {},
   "outputs": [
    {
     "name": "stdout",
     "output_type": "stream",
     "text": [
      "Pirámide generada:\n",
      "[20, 98, 12, 35, 87, 40, 6, 69, 77, 36]\n",
      "[' ', 118, 110, 47, 122, 127, 46, 75, 146, 113]\n",
      "[' ', 228, 157, 169, 249, 173, 121, 221, 259]\n",
      "[' ', ' ', 385, 326, 418, 422, 294, 342, 480]\n",
      "[' ', ' ', 711, 744, 840, 716, 636, 822]\n",
      "[' ', ' ', ' ', 1455, 1584, 1556, 1352, 1458]\n",
      "[' ', ' ', ' ', 3039, 3140, 2908, 2810]\n",
      "[' ', ' ', ' ', ' ', 6179, 6048, 5718]\n",
      "[' ', ' ', ' ', ' ', 12227, 11766]\n",
      "[' ', ' ', ' ', ' ', ' ', 23993]\n"
     ]
    }
   ],
   "source": [
    "import random\n",
    "count=0\n",
    "def generate_random_array(length, min_val, max_val):\n",
    "    return [random.randint(min_val, max_val) for _ in range(length)]\n",
    "\n",
    "def sum_adjacent_pairs(arr):\n",
    "    new_arr = []\n",
    "    blnk_arr=[]\n",
    "    \n",
    "    c=0\n",
    "    \n",
    "    \n",
    "    while c <= count:\n",
    "        blnk_arr.append(\" \")\n",
    "        c=c+1\n",
    "       \n",
    "    \n",
    "    for i in range(len(arr) - 1):\n",
    "        \n",
    "        new_arr.append(arr[i] + arr[i + 1])\n",
    "    return new_arr\n",
    "\n",
    "def print_pyramid(arr):\n",
    "    blnk_arr =[]\n",
    "    for row in arr:\n",
    "        global count\n",
    "        count=count+1\n",
    "        print(blnk_arr+row)\n",
    "        if count%2 != 0:\n",
    "            blnk_arr.append(\" \")\n",
    "            \n",
    "            \n",
    "        \n",
    "\n",
    "def main():\n",
    "    pyramid = []\n",
    "    original_array = generate_random_array(10, 1, 100)\n",
    "    pyramid.append(original_array)\n",
    "\n",
    "    while len(pyramid[-1]) > 1:\n",
    "        new_row = sum_adjacent_pairs(pyramid[-1])\n",
    "        pyramid.append(new_row)\n",
    "\n",
    "    print(\"Pirámide generada:\")\n",
    "    print_pyramid(pyramid)\n",
    "\n",
    "if __name__ == \"__main__\":\n",
    "    main()"
   ]
  },
  {
   "cell_type": "code",
   "execution_count": null,
   "metadata": {},
   "outputs": [],
   "source": []
  }
 ],
 "metadata": {
  "kernelspec": {
   "display_name": "Python 3 (ipykernel)",
   "language": "python",
   "name": "python3"
  },
  "language_info": {
   "codemirror_mode": {
    "name": "ipython",
    "version": 3
   },
   "file_extension": ".py",
   "mimetype": "text/x-python",
   "name": "python",
   "nbconvert_exporter": "python",
   "pygments_lexer": "ipython3",
   "version": "3.11.4"
  }
 },
 "nbformat": 4,
 "nbformat_minor": 2
}
