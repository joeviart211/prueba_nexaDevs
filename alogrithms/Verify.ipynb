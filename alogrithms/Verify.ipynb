{
 "cells": [
  {
   "cell_type": "code",
   "execution_count": 6,
   "id": "87b07c38",
   "metadata": {},
   "outputs": [
    {
     "name": "stdout",
     "output_type": "stream",
     "text": [
      "Enter: 1\n",
      "The input is a real number.\n"
     ]
    }
   ],
   "source": [
    "def is_real_number(input_string):\n",
    "    try:\n",
    "        float(input_string)\n",
    "        return True\n",
    "    except ValueError:\n",
    "        return False\n",
    "\n",
    "# Read input from the user\n",
    "input_string = input(\"Enter: \")\n",
    "\n",
    "# Verify if it's a real number\n",
    "if is_real_number(input_string):\n",
    "    print(\"The input is a real number.\")\n",
    "else:\n",
    "    print(\"The input is not a real number.\")"
   ]
  },
  {
   "cell_type": "code",
   "execution_count": null,
   "id": "7630dc35",
   "metadata": {},
   "outputs": [],
   "source": []
  },
  {
   "cell_type": "code",
   "execution_count": null,
   "id": "b56d8f3a",
   "metadata": {},
   "outputs": [],
   "source": []
  }
 ],
 "metadata": {
  "kernelspec": {
   "display_name": "Python 3 (ipykernel)",
   "language": "python",
   "name": "python3"
  },
  "language_info": {
   "codemirror_mode": {
    "name": "ipython",
    "version": 3
   },
   "file_extension": ".py",
   "mimetype": "text/x-python",
   "name": "python",
   "nbconvert_exporter": "python",
   "pygments_lexer": "ipython3",
   "version": "3.11.4"
  }
 },
 "nbformat": 4,
 "nbformat_minor": 5
}
