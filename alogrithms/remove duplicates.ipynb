{
 "cells": [
  {
   "cell_type": "code",
   "execution_count": 14,
   "id": "ad4b91da",
   "metadata": {},
   "outputs": [
    {
     "data": {
      "application/vnd.jupyter.widget-view+json": {
       "model_id": "3ddb8ae3f0034d60a5e81d7948a3110d",
       "version_major": 2,
       "version_minor": 0
      },
      "text/plain": [
       "Text(value='', description='Enter element:')"
      ]
     },
     "metadata": {},
     "output_type": "display_data"
    },
    {
     "data": {
      "application/vnd.jupyter.widget-view+json": {
       "model_id": "9c529431c3dc454191315d5abfac020f",
       "version_major": 2,
       "version_minor": 0
      },
      "text/plain": [
       "Button(description='Add', style=ButtonStyle())"
      ]
     },
     "metadata": {},
     "output_type": "display_data"
    },
    {
     "name": "stdout",
     "output_type": "stream",
     "text": [
      "{'1'}\n",
      "{'1'}\n",
      "{'2', '1'}\n",
      "{'2', '3', '1'}\n",
      "{'2', '3', '1'}\n",
      "{'4', '2', '3', '1'}\n"
     ]
    }
   ],
   "source": [
    "import ipywidgets as widgets\n",
    "from IPython.display import display\n",
    "\n",
    "# Create an empty array\n",
    "my_array = []\n",
    "\n",
    "# Define the input box\n",
    "input_box = widgets.Text(description=\"Enter element:\")\n",
    "add_button = widgets.Button(description=\"Add\")\n",
    "\n",
    "# Define the function to add element\n",
    "def add_element(btn):\n",
    "    element = input_box.value\n",
    "    my_array.append(element)\n",
    "    input_box.value = \"\"\n",
    "    print( set(my_array))\n",
    "\n",
    "add_button.on_click(add_element)\n",
    "\n",
    "# Display the input box and button\n",
    "display(input_box)\n",
    "display(add_button)"
   ]
  },
  {
   "cell_type": "code",
   "execution_count": null,
   "id": "fe788f20",
   "metadata": {},
   "outputs": [],
   "source": []
  }
 ],
 "metadata": {
  "kernelspec": {
   "display_name": "Python 3 (ipykernel)",
   "language": "python",
   "name": "python3"
  },
  "language_info": {
   "codemirror_mode": {
    "name": "ipython",
    "version": 3
   },
   "file_extension": ".py",
   "mimetype": "text/x-python",
   "name": "python",
   "nbconvert_exporter": "python",
   "pygments_lexer": "ipython3",
   "version": "3.11.4"
  }
 },
 "nbformat": 4,
 "nbformat_minor": 5
}
